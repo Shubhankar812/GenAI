{
 "cells": [
  {
   "cell_type": "code",
   "execution_count": 1,
   "metadata": {},
   "outputs": [
    {
     "name": "stdout",
     "output_type": "stream",
     "text": [
      "/home/shubhankar/genAI/FileOperation\n"
     ]
    }
   ],
   "source": [
    "import os\n",
    "cwd=os.getcwd()\n",
    "print(cwd)"
   ]
  },
  {
   "cell_type": "code",
   "execution_count": 3,
   "metadata": {},
   "outputs": [],
   "source": [
    "# create a new directory\n",
    "new_directory = \"package\"\n",
    "os.mkdir(new_directory)"
   ]
  },
  {
   "cell_type": "code",
   "execution_count": 4,
   "metadata": {},
   "outputs": [
    {
     "name": "stdout",
     "output_type": "stream",
     "text": [
      "['file2.ipynb', 'example.bin', 'example', 'package', 'destination.txt', 'testFile', 'file1.ipynb']\n"
     ]
    }
   ],
   "source": [
    "items = os.listdir()\n",
    "print(items)"
   ]
  },
  {
   "cell_type": "code",
   "execution_count": 16,
   "metadata": {},
   "outputs": [
    {
     "name": "stdout",
     "output_type": "stream",
     "text": [
      "/home/shubhankar/genAI/FileOperation/folder/file.txt\n"
     ]
    }
   ],
   "source": [
    "dir_name='folder'\n",
    "file_name='file.txt'\n",
    "full_path=os.path.join(os.getcwd(),dir_name,file_name)\n",
    "full_path_1=\"/home/shubhankar/genAI/FileOperation/\"\n",
    "print(full_path)"
   ]
  },
  {
   "cell_type": "code",
   "execution_count": 10,
   "metadata": {},
   "outputs": [
    {
     "name": "stdout",
     "output_type": "stream",
     "text": [
      "File exisits\n"
     ]
    }
   ],
   "source": [
    "path='example'\n",
    "if os.path.exists(path):\n",
    "    print('File exisits')\n",
    "else:\n",
    "    print('File does not exist')"
   ]
  },
  {
   "cell_type": "code",
   "execution_count": 17,
   "metadata": {},
   "outputs": [
    {
     "name": "stdout",
     "output_type": "stream",
     "text": [
      "/home/shubhankar/genAI/FileOperation/ is a directory\n"
     ]
    }
   ],
   "source": [
    "import os\n",
    "\n",
    "path=full_path_1\n",
    "if os.path.isfile(path):\n",
    "    print(f\"{path} is a file\")\n",
    "elif os.path.isdir(path):\n",
    "    print(f\"{path} is a directory\")\n",
    "else:\n",
    "    print(f\"{path} is neither a file nor a directory!\")"
   ]
  },
  {
   "cell_type": "code",
   "execution_count": 18,
   "metadata": {},
   "outputs": [
    {
     "name": "stdout",
     "output_type": "stream",
     "text": [
      "/home/shubhankar/genAI/FileOperation/example\n"
     ]
    }
   ],
   "source": [
    "relative_path='example'\n",
    "absolute_path = os.path.abspath(relative_path)\n",
    "print(absolute_path)"
   ]
  }
 ],
 "metadata": {
  "kernelspec": {
   "display_name": "Python 3",
   "language": "python",
   "name": "python3"
  },
  "language_info": {
   "codemirror_mode": {
    "name": "ipython",
    "version": 3
   },
   "file_extension": ".py",
   "mimetype": "text/x-python",
   "name": "python",
   "nbconvert_exporter": "python",
   "pygments_lexer": "ipython3",
   "version": "3.12.3"
  }
 },
 "nbformat": 4,
 "nbformat_minor": 2
}
