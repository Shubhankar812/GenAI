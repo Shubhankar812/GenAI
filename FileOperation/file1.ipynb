{
 "cells": [
  {
   "cell_type": "code",
   "execution_count": 20,
   "metadata": {},
   "outputs": [
    {
     "name": "stdout",
     "output_type": "stream",
     "text": [
      "some random text,\n",
      "just ignore!!!\n",
      "\n",
      "Adding few more lines \n",
      "just for the scrappy content\n",
      "\n",
      "that nobody is going to read again!\n",
      "\n",
      "Worthless!!!\n"
     ]
    }
   ],
   "source": [
    "# Reading an entire file\n",
    "with open('example','r') as file:\n",
    "    content = file.read()\n",
    "    print(content)"
   ]
  },
  {
   "cell_type": "code",
   "execution_count": 23,
   "metadata": {},
   "outputs": [
    {
     "name": "stdout",
     "output_type": "stream",
     "text": [
      "some random text,\n",
      "just ignore!!!\n",
      "\n",
      "Adding few more lines\n",
      "just for the scrappy content\n",
      "\n",
      "that nobody is going to read again!\n",
      "\n",
      "Worthless!!!\n",
      "['some random text,\\n', 'just ignore!!!\\n', '\\n', 'Adding few more lines \\n', 'just for the scrappy content\\n', '\\n', 'that nobody is going to read again!\\n', '\\n', 'Worthless!!!']\n"
     ]
    }
   ],
   "source": [
    "linesList=[]\n",
    "\n",
    "with open('example','r') as file:\n",
    "    for line in file:\n",
    "        # print('\\n')\n",
    "        print(line.strip())     # strip() --- removes the newline character\n",
    "        linesList.append(line)\n",
    "\n",
    "\n",
    "print(linesList)\n"
   ]
  },
  {
   "cell_type": "code",
   "execution_count": 24,
   "metadata": {},
   "outputs": [],
   "source": [
    "# the entire 'example' file is now overwritten by this operation! \n",
    "with open('example','w') as file:\n",
    "    file.write(\"Writing from the file using the Write operation.\\n\")    \n"
   ]
  },
  {
   "cell_type": "code",
   "execution_count": 25,
   "metadata": {},
   "outputs": [],
   "source": [
    "# writing into the file without overwriting it.\n",
    "\n",
    "with open('example','a') as file:\n",
    "    file.write('\\nAdding some more text using the append operation!\\n') "
   ]
  },
  {
   "cell_type": "code",
   "execution_count": 26,
   "metadata": {},
   "outputs": [],
   "source": [
    "with open('example','a') as file:\n",
    "    file.writelines(linesList)"
   ]
  },
  {
   "cell_type": "code",
   "execution_count": 27,
   "metadata": {},
   "outputs": [],
   "source": [
    "# Binary Files\n",
    "\n",
    "# Writing to a binary file\n",
    "data = b'\\x00\\x01\\x02\\x03\\x04'\n",
    "with open('example.bin', 'wb') as file:\n",
    "    file.write(data)"
   ]
  },
  {
   "cell_type": "code",
   "execution_count": 28,
   "metadata": {},
   "outputs": [
    {
     "name": "stdout",
     "output_type": "stream",
     "text": [
      "b'\\x00\\x01\\x02\\x03\\x04'\n"
     ]
    }
   ],
   "source": [
    "with open('example.bin','rb') as file:\n",
    "    content = file.read()\n",
    "    print(content)"
   ]
  },
  {
   "cell_type": "code",
   "execution_count": 29,
   "metadata": {},
   "outputs": [],
   "source": [
    "with open('example', 'r') as source_file:\n",
    "    content = source_file.read()\n",
    "\n",
    "with open('destination.txt', 'w') as destination_file:\n",
    "    destination_file.write(content)"
   ]
  },
  {
   "cell_type": "code",
   "execution_count": 34,
   "metadata": {},
   "outputs": [
    {
     "name": "stdout",
     "output_type": "stream",
     "text": [
      "Lines: 12, Words: 38, Characters: 236\n"
     ]
    }
   ],
   "source": [
    "def count_text_file(file_path):\n",
    "    with open(file_path, 'r') as file:\n",
    "        lines = file.readlines()\n",
    "        line_count = len(lines)\n",
    "        word_count = sum(len(line.split()) for line in lines)\n",
    "        char_count = sum(len(line) for line in lines)\n",
    "    return line_count, word_count, char_count\n",
    "\n",
    "file_path = 'example'\n",
    "lines, words, characters = count_text_file(file_path)\n",
    "print(f'Lines: {lines}, Words: {words}, Characters: {characters}')"
   ]
  },
  {
   "cell_type": "code",
   "execution_count": 9,
   "metadata": {},
   "outputs": [
    {
     "name": "stdout",
     "output_type": "stream",
     "text": [
      "Hello line1\n",
      "Another stmt. just for passing some time\n",
      "\n"
     ]
    }
   ],
   "source": [
    "# writing and then reading a file\n",
    "\n",
    "with open('testFile','w+') as file:\n",
    "    file.write(\"Hello line1\\n\")\n",
    "    file.write(\"Another stmt. just for passing some time\\n\")\n",
    "\n",
    "    # move the cursor to the beginning\n",
    "    file.seek(0)\n",
    "\n",
    "    content=file.read()\n",
    "print(content)"
   ]
  }
 ],
 "metadata": {
  "kernelspec": {
   "display_name": "Python 3",
   "language": "python",
   "name": "python3"
  },
  "language_info": {
   "codemirror_mode": {
    "name": "ipython",
    "version": 3
   },
   "file_extension": ".py",
   "mimetype": "text/x-python",
   "name": "python",
   "nbconvert_exporter": "python",
   "pygments_lexer": "ipython3",
   "version": "3.12.3"
  }
 },
 "nbformat": 4,
 "nbformat_minor": 2
}
