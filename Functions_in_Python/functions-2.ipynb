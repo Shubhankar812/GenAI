{
 "cells": [
  {
   "cell_type": "markdown",
   "metadata": {},
   "source": [
    "map() ---> map function basically applies a given function to an entire list"
   ]
  },
  {
   "cell_type": "code",
   "execution_count": 4,
   "metadata": {},
   "outputs": [
    {
     "name": "stdout",
     "output_type": "stream",
     "text": [
      "[1, 8, 27, 64, 125]\n",
      "[1, 16, 81, 256, 625]\n"
     ]
    }
   ],
   "source": [
    "lst=[1,2,3,4,5]\n",
    "def fourthPower(x):\n",
    "    return x**4\n",
    "print(list(map(lambda x:x**3,lst)))\n",
    "print(list(map(fourthPower,lst)))"
   ]
  },
  {
   "cell_type": "code",
   "execution_count": 11,
   "metadata": {},
   "outputs": [
    {
     "name": "stdout",
     "output_type": "stream",
     "text": [
      "['1', '2', '3', '4', '5']\n",
      "[12, 13, 15, 16, 19]\n"
     ]
    }
   ],
   "source": [
    "# map() to convert list of integers to string\n",
    "\n",
    "print(list(map(lambda x:str(x),lst)))\n",
    "\n",
    "strLst = ['12','13','15','16','19']\n",
    "\n",
    "print(list(map(int,strLst)))"
   ]
  },
  {
   "cell_type": "code",
   "execution_count": 13,
   "metadata": {},
   "outputs": [
    {
     "name": "stdout",
     "output_type": "stream",
     "text": [
      "['Mango', 'Apple', 'Cheery', 'Peach', 'Banana']\n"
     ]
    }
   ],
   "source": [
    "fruits = ['mango','apple',\"cheery\",\"peach\",'banana']\n",
    "\n",
    "print(list(map(lambda s:s.capitalize(),fruits)))"
   ]
  },
  {
   "cell_type": "code",
   "execution_count": 18,
   "metadata": {},
   "outputs": [
    {
     "name": "stdout",
     "output_type": "stream",
     "text": [
      "{'Name': 'Xyz', 'Age': 100}\n",
      "{'Name': 'Qwerty', 'Age': 101}\n",
      "[None, None]\n"
     ]
    }
   ],
   "source": [
    "people = [\n",
    " {   'Name':\"Xyz\",\n",
    "    'Age':100\n",
    " },\n",
    " {\n",
    "     'Name':\"Qwerty\",\n",
    "    'Age':101\n",
    " }\n",
    "]\n",
    "\n",
    "print(list(map(print,people)))"
   ]
  },
  {
   "cell_type": "markdown",
   "metadata": {},
   "source": [
    "filter() --- "
   ]
  },
  {
   "cell_type": "code",
   "execution_count": 1,
   "metadata": {},
   "outputs": [
    {
     "name": "stdout",
     "output_type": "stream",
     "text": [
      "/home/shubhankar/genAI/Functions_in_Python\n"
     ]
    }
   ],
   "source": [
    "import os\n",
    "print(os.getcwd())"
   ]
  },
  {
   "cell_type": "code",
   "execution_count": 2,
   "metadata": {},
   "outputs": [
    {
     "ename": "AttributeError",
     "evalue": "module 'os' has no attribute 'touch'",
     "output_type": "error",
     "traceback": [
      "\u001b[0;31m---------------------------------------------------------------------------\u001b[0m",
      "\u001b[0;31mAttributeError\u001b[0m                            Traceback (most recent call last)",
      "Cell \u001b[0;32mIn[2], line 1\u001b[0m\n\u001b[0;32m----> 1\u001b[0m \u001b[43mos\u001b[49m\u001b[38;5;241;43m.\u001b[39;49m\u001b[43mtouch\u001b[49m(\u001b[38;5;124m'\u001b[39m\u001b[38;5;124mfile-test\u001b[39m\u001b[38;5;124m'\u001b[39m)\n",
      "\u001b[0;31mAttributeError\u001b[0m: module 'os' has no attribute 'touch'"
     ]
    }
   ],
   "source": [
    "os.touch('file-test')"
   ]
  }
 ],
 "metadata": {
  "kernelspec": {
   "display_name": "Python 3",
   "language": "python",
   "name": "python3"
  },
  "language_info": {
   "codemirror_mode": {
    "name": "ipython",
    "version": 3
   },
   "file_extension": ".py",
   "mimetype": "text/x-python",
   "name": "python",
   "nbconvert_exporter": "python",
   "pygments_lexer": "ipython3",
   "version": "3.12.3"
  }
 },
 "nbformat": 4,
 "nbformat_minor": 2
}
