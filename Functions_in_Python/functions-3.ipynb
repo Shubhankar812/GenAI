{
 "cells": [
  {
   "cell_type": "code",
   "execution_count": 1,
   "metadata": {},
   "outputs": [
    {
     "name": "stdout",
     "output_type": "stream",
     "text": [
      "apple\n",
      "4\n"
     ]
    }
   ],
   "source": [
    "import random \n",
    "\n",
    "val=random.randint(1,10)\n",
    "choice = random.choice(['apple','mango','banana','cherry','muskmelon','grapes','watermelon','papaya','kiwi','peach'])\n",
    "print(choice)\n",
    "print(val)\n"
   ]
  },
  {
   "cell_type": "code",
   "execution_count": 2,
   "metadata": {},
   "outputs": [
    {
     "name": "stdout",
     "output_type": "stream",
     "text": [
      "/home/shubhankar/genAI/Functions_in_Python\n"
     ]
    }
   ],
   "source": [
    "import os\n",
    "print(os.getcwd())"
   ]
  },
  {
   "cell_type": "code",
   "execution_count": 3,
   "metadata": {},
   "outputs": [],
   "source": [
    "os.mkdir(\"Dump-Folder\")"
   ]
  },
  {
   "cell_type": "code",
   "execution_count": 4,
   "metadata": {},
   "outputs": [],
   "source": [
    "os.rmdir(\"Dump-Folder\")"
   ]
  },
  {
   "cell_type": "code",
   "execution_count": 7,
   "metadata": {},
   "outputs": [
    {
     "data": {
      "text/plain": [
       "'destination.txt'"
      ]
     },
     "execution_count": 7,
     "metadata": {},
     "output_type": "execute_result"
    }
   ],
   "source": [
    "# High level file based operations!\n",
    "\n",
    "import shutil\n",
    "\n",
    "shutil.copy(\"source.txt\",\"destination.txt\")"
   ]
  },
  {
   "cell_type": "code",
   "execution_count": 10,
   "metadata": {},
   "outputs": [
    {
     "name": "stdout",
     "output_type": "stream",
     "text": [
      "{\"Name\": \"Shubhankar\", \"Age\": 23}\n",
      "<class 'str'>\n",
      "{'Name': 'Shubhankar', 'Age': 23}\n",
      "<class 'dict'>\n"
     ]
    }
   ],
   "source": [
    "# Data Serialization & Deserialization\n",
    "import json\n",
    "data={\"Name\":\"Shubhankar\",\"Age\":23}\n",
    "json_str=json.dumps(data)\n",
    "\n",
    "print(json_str)\n",
    "print(type(json_str))\n",
    "\n",
    "parsed_data = json.loads(json_str)\n",
    "print(parsed_data)\n",
    "print(type(parsed_data))"
   ]
  },
  {
   "cell_type": "code",
   "execution_count": 13,
   "metadata": {},
   "outputs": [
    {
     "name": "stdout",
     "output_type": "stream",
     "text": [
      "['Name', 'Age', 'Experience']\n",
      "['Test Agent', '101', '90']\n"
     ]
    }
   ],
   "source": [
    "# CSV\n",
    "\n",
    "import csv\n",
    "\n",
    "with open('example.csv',mode='w',newline='') as file:\n",
    "    writer = csv.writer(file)\n",
    "    writer.writerow(['Name',\"Age\",\"Experience\"])\n",
    "    writer.writerow([\"Test Agent\",101,90])\n",
    "\n",
    "with open('example.csv',mode='r',newline='') as file:\n",
    "    reader = csv.reader(file)\n",
    "    for row in reader:\n",
    "        print(row)"
   ]
  },
  {
   "cell_type": "code",
   "execution_count": 16,
   "metadata": {},
   "outputs": [
    {
     "data": {
      "text/html": [
       "<div>\n",
       "<style scoped>\n",
       "    .dataframe tbody tr th:only-of-type {\n",
       "        vertical-align: middle;\n",
       "    }\n",
       "\n",
       "    .dataframe tbody tr th {\n",
       "        vertical-align: top;\n",
       "    }\n",
       "\n",
       "    .dataframe thead th {\n",
       "        text-align: right;\n",
       "    }\n",
       "</style>\n",
       "<table border=\"1\" class=\"dataframe\">\n",
       "  <thead>\n",
       "    <tr style=\"text-align: right;\">\n",
       "      <th></th>\n",
       "      <th>Name</th>\n",
       "      <th>Age</th>\n",
       "      <th>Experience</th>\n",
       "    </tr>\n",
       "  </thead>\n",
       "  <tbody>\n",
       "    <tr>\n",
       "      <th>0</th>\n",
       "      <td>Test Agent</td>\n",
       "      <td>101</td>\n",
       "      <td>90</td>\n",
       "    </tr>\n",
       "  </tbody>\n",
       "</table>\n",
       "</div>"
      ],
      "text/plain": [
       "         Name  Age  Experience\n",
       "0  Test Agent  101          90"
      ]
     },
     "execution_count": 16,
     "metadata": {},
     "output_type": "execute_result"
    }
   ],
   "source": [
    "import pandas as pd\n",
    "\n",
    "df = pd.read_csv('example.csv')\n",
    "df"
   ]
  },
  {
   "cell_type": "code",
   "execution_count": 37,
   "metadata": {},
   "outputs": [
    {
     "name": "stdout",
     "output_type": "stream",
     "text": [
      "2024-08-01 12:53:44.764225\n",
      "2024-07-31 12:53:44.764225\n"
     ]
    }
   ],
   "source": [
    "# Date time\n",
    "from datetime import datetime,timedelta\n",
    "current_time = datetime.now()\n",
    "print(current_time)\n",
    "    \n",
    "yesterday = current_time-timedelta(days=1)\n",
    "print(yesterday)"
   ]
  },
  {
   "cell_type": "code",
   "execution_count": 35,
   "metadata": {},
   "outputs": [
    {
     "name": "stdout",
     "output_type": "stream",
     "text": [
      "30\n",
      "5.847991466522217\n"
     ]
    }
   ],
   "source": [
    "import time\n",
    "import math\n",
    "start = time.time()\n",
    "\n",
    "def calculate(a,b,op):\n",
    "    if op == '+':\n",
    "        return a+b\n",
    "    elif op == '-':\n",
    "        return Math.abs(a-b)\n",
    "    elif op == '*':\n",
    "        return a*b\n",
    "    elif op == '/':\n",
    "        return a/b\n",
    "    else:\n",
    "        print(\"Invalid operator!!!\")\n",
    "\n",
    "a = int(input())\n",
    "b = int(input())\n",
    "op = input()\n",
    "\n",
    "ans = calculate(a,b,op)\n",
    "print(ans)\n",
    "\n",
    "end = time.time()\n",
    "\n",
    "print(end-start)"
   ]
  },
  {
   "cell_type": "code",
   "execution_count": 46,
   "metadata": {},
   "outputs": [
    {
     "name": "stdout",
     "output_type": "stream",
     "text": [
      "2030\n"
     ]
    }
   ],
   "source": [
    "# Regular Expression\n",
    "\n",
    "import re \n",
    "\n",
    "text = \"There are some apples in the room,some where around 2030\"\n",
    "pattern=r'\\d+'\n",
    "match=re.search(pattern,text)\n",
    "print(match.group())"
   ]
  },
  {
   "cell_type": "code",
   "execution_count": null,
   "metadata": {},
   "outputs": [],
   "source": []
  }
 ],
 "metadata": {
  "kernelspec": {
   "display_name": "Python 3",
   "language": "python",
   "name": "python3"
  },
  "language_info": {
   "codemirror_mode": {
    "name": "ipython",
    "version": 3
   },
   "file_extension": ".py",
   "mimetype": "text/x-python",
   "name": "python",
   "nbconvert_exporter": "python",
   "pygments_lexer": "ipython3",
   "version": "3.12.3"
  }
 },
 "nbformat": 4,
 "nbformat_minor": 2
}
