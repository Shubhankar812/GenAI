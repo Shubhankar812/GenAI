{
 "cells": [
  {
   "cell_type": "code",
   "execution_count": 1,
   "metadata": {},
   "outputs": [
    {
     "name": "stdout",
     "output_type": "stream",
     "text": [
      "Shubhankar is printed!!\n"
     ]
    }
   ],
   "source": [
    "# Normal function with params\n",
    "def print0(name):\n",
    "    print(f\"{name} is printed!!\")\n",
    "\n",
    "print0(\"Shubhankar\")"
   ]
  },
  {
   "cell_type": "code",
   "execution_count": 3,
   "metadata": {},
   "outputs": [
    {
     "name": "stdout",
     "output_type": "stream",
     "text": [
      "abc\n",
      "def\n",
      "ghi\n",
      "jkl\n",
      "mno\n",
      "prq\n",
      "xyz\n"
     ]
    }
   ],
   "source": [
    "# variable length arguments\n",
    "def print1(*names) :\n",
    "    for name in names:\n",
    "        print(name)\n",
    "\n",
    "print1('abc','def','ghi','jkl','mno','prq','xyz')"
   ]
  },
  {
   "cell_type": "code",
   "execution_count": 6,
   "metadata": {},
   "outputs": [
    {
     "name": "stdout",
     "output_type": "stream",
     "text": [
      "name Abcs\n",
      "Country India\n"
     ]
    }
   ],
   "source": [
    "# key-value based arguments\n",
    "def print2(**kwargs):\n",
    "    for key,value in kwargs.items():\n",
    "        print(f\"{key} {value}\")\n",
    "\n",
    "print2(name=\"Abcs\",Country=\"India\")"
   ]
  },
  {
   "cell_type": "code",
   "execution_count": 10,
   "metadata": {},
   "outputs": [
    {
     "name": "stdout",
     "output_type": "stream",
     "text": [
      "1\n",
      "2\n",
      "3\n",
      "4\n",
      "5\n",
      "6\n",
      "key:12334\n",
      "value:Testing key\n"
     ]
    }
   ],
   "source": [
    "def print3(*args,**kwargs):\n",
    "    for val in args:\n",
    "        print(val)\n",
    "    \n",
    "    for key,value in kwargs.items():\n",
    "        print(f\"{key}:{value}\")\n",
    "\n",
    "print3(1,2,3,4,5,6,key=12334,value=\"Testing key\")"
   ]
  },
  {
   "cell_type": "code",
   "execution_count": 11,
   "metadata": {},
   "outputs": [
    {
     "name": "stdout",
     "output_type": "stream",
     "text": [
      "60\n"
     ]
    }
   ],
   "source": [
    "# lambda functions\n",
    "prod=lambda a,b: a*b\n",
    "\n",
    "print(prod(30,2))"
   ]
  },
  {
   "cell_type": "code",
   "execution_count": 12,
   "metadata": {},
   "outputs": [
    {
     "name": "stdout",
     "output_type": "stream",
     "text": [
      "True\n"
     ]
    }
   ],
   "source": [
    "check = lambda a : a%2==0\n",
    "\n",
    "print(check(78))"
   ]
  },
  {
   "cell_type": "code",
   "execution_count": 19,
   "metadata": {},
   "outputs": [
    {
     "data": {
      "text/plain": [
       "[1, 4, 9, 16, 25]"
      ]
     },
     "execution_count": 19,
     "metadata": {},
     "output_type": "execute_result"
    }
   ],
   "source": [
    "nums=[1,2,3,4,5]\n",
    "\n",
    "list(map(lambda x:x**2,nums))\n"
   ]
  }
 ],
 "metadata": {
  "kernelspec": {
   "display_name": "Python 3",
   "language": "python",
   "name": "python3"
  },
  "language_info": {
   "codemirror_mode": {
    "name": "ipython",
    "version": 3
   },
   "file_extension": ".py",
   "mimetype": "text/x-python",
   "name": "python",
   "nbconvert_exporter": "python",
   "pygments_lexer": "ipython3",
   "version": "3.12.3"
  }
 },
 "nbformat": 4,
 "nbformat_minor": 2
}
