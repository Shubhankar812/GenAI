{
 "cells": [
  {
   "cell_type": "code",
   "execution_count": 2,
   "metadata": {},
   "outputs": [
    {
     "name": "stdout",
     "output_type": "stream",
     "text": [
      "{}\n"
     ]
    }
   ],
   "source": [
    "dict = {}\n",
    "print(dict)"
   ]
  },
  {
   "cell_type": "code",
   "execution_count": 15,
   "metadata": {},
   "outputs": [
    {
     "name": "stdout",
     "output_type": "stream",
     "text": [
      "{'name': 'jkl', 'grade': 'C', 'roll': 4} \n",
      "\n"
     ]
    }
   ],
   "source": [
    "s1 = {'name':'abc','grade':'A','roll':1}\n",
    "s2 = {'name':'def','grade':'B','roll':2}\n",
    "s3 = {'name':'ghi','grade':'A+','roll':3}\n",
    "s4 = {'name':'jkl','grade':'C','roll':4}\n",
    "s5 = {'name':'xyz','grade':'A','roll':5}\n",
    "\n",
    "lst=[]\n",
    "\n",
    "lst.append(s1)\n",
    "lst.append(s2)\n",
    "lst.append(s3)\n",
    "lst.append(s4)\n",
    "lst.append(s5)\n",
    "\n",
    "print(lst[3],\"\\n\")"
   ]
  },
  {
   "cell_type": "code",
   "execution_count": 13,
   "metadata": {},
   "outputs": [
    {
     "name": "stdout",
     "output_type": "stream",
     "text": [
      "abc   A   1\n",
      "def   B   2\n"
     ]
    }
   ],
   "source": [
    "# Accessing the dictionary \n",
    "# 1)\n",
    "print(s1['name'],\" \",s1['grade'],\" \",s1['roll'])\n",
    "# 2)\n",
    "print(s2.get('name'),\" \",s2.get('grade'),\" \",s2.get('roll'))"
   ]
  },
  {
   "cell_type": "code",
   "execution_count": 16,
   "metadata": {},
   "outputs": [],
   "source": [
    "s1['name']=\"test\""
   ]
  },
  {
   "cell_type": "code",
   "execution_count": 18,
   "metadata": {},
   "outputs": [
    {
     "name": "stdout",
     "output_type": "stream",
     "text": [
      "{'name': 'test', 'grade': 'A', 'roll': 1}\n",
      "{'name': 'def', 'grade': 'B', 'roll': 2}\n",
      "{'name': 'ghi', 'grade': 'A+', 'roll': 3}\n",
      "{'name': 'jkl', 'grade': 'C', 'roll': 4}\n",
      "{'name': 'xyz', 'grade': 'A', 'roll': 5}\n"
     ]
    }
   ],
   "source": [
    "for item in lst:\n",
    "    print(item)"
   ]
  },
  {
   "cell_type": "code",
   "execution_count": 19,
   "metadata": {},
   "outputs": [],
   "source": [
    "del s1['roll']"
   ]
  },
  {
   "cell_type": "code",
   "execution_count": 20,
   "metadata": {},
   "outputs": [
    {
     "name": "stdout",
     "output_type": "stream",
     "text": [
      "{'name': 'test', 'grade': 'A'}\n",
      "{'name': 'def', 'grade': 'B', 'roll': 2}\n",
      "{'name': 'ghi', 'grade': 'A+', 'roll': 3}\n",
      "{'name': 'jkl', 'grade': 'C', 'roll': 4}\n",
      "{'name': 'xyz', 'grade': 'A', 'roll': 5}\n"
     ]
    }
   ],
   "source": [
    "for item in lst:\n",
    "    print(item)"
   ]
  },
  {
   "cell_type": "code",
   "execution_count": 26,
   "metadata": {},
   "outputs": [
    {
     "name": "stdout",
     "output_type": "stream",
     "text": [
      "dict_keys(['name', 'grade', 'roll'])   dict_values(['def', 'B', 2])\n",
      "dict_items([('name', 'ghi'), ('grade', 'A+'), ('roll', 3)])\n"
     ]
    }
   ],
   "source": [
    "# Keys and Values\n",
    "\n",
    "keys = s2.keys()\n",
    "vals = s2.values()\n",
    "\n",
    "print(keys,\" \",vals)\n",
    "\n",
    "# Get all key-value pairs\n",
    "print(s3.items())"
   ]
  },
  {
   "cell_type": "code",
   "execution_count": 27,
   "metadata": {},
   "outputs": [
    {
     "name": "stdout",
     "output_type": "stream",
     "text": [
      "{'Name': 'test agent', 'Grade': 'A+', 'RegNo': 123}\n"
     ]
    }
   ],
   "source": [
    "student = {'Name' : 'test agent', 'Grade':'A+', \"RegNo\" :123}\n",
    "print(student)"
   ]
  },
  {
   "cell_type": "code",
   "execution_count": 30,
   "metadata": {},
   "outputs": [],
   "source": [
    "deep_copy = student\n",
    "shallow_copy = student.copy()"
   ]
  },
  {
   "cell_type": "code",
   "execution_count": 31,
   "metadata": {},
   "outputs": [],
   "source": [
    "student['Grade']='B'"
   ]
  },
  {
   "cell_type": "code",
   "execution_count": 33,
   "metadata": {},
   "outputs": [
    {
     "name": "stdout",
     "output_type": "stream",
     "text": [
      "{'Name': 'test agent', 'Grade': 'B', 'RegNo': 123}\n",
      "Shallow Copy of Student :  {'Name': 'test agent', 'Grade': 'A+', 'RegNo': 123}\n",
      "Deep Copy of Student :  {'Name': 'test agent', 'Grade': 'B', 'RegNo': 123}\n"
     ]
    }
   ],
   "source": [
    "print(student)\n",
    "print(\"Shallow Copy of Student : \",shallow_copy)\n",
    "print(\"Deep Copy of Student : \",deep_copy)"
   ]
  },
  {
   "cell_type": "code",
   "execution_count": 49,
   "metadata": {},
   "outputs": [
    {
     "name": "stdout",
     "output_type": "stream",
     "text": [
      " Agent 2 25\n"
     ]
    }
   ],
   "source": [
    "# Nested dictionaries\n",
    "\n",
    "dict = {\n",
    "    \"Emp1\": {\"Name\":\" Agent 1\",\"EmpNo\":21},\n",
    "    \"Emp2\": {\"Name\":\" Agent 2\",\"EmpNo\":25},\n",
    "}\n",
    "\n",
    "print(f\"{dict[\"Emp2\"][\"Name\"]:} {dict['Emp2'][\"EmpNo\"]}\")"
   ]
  },
  {
   "cell_type": "code",
   "execution_count": 50,
   "metadata": {},
   "outputs": [
    {
     "name": "stdout",
     "output_type": "stream",
     "text": [
      "Emp1\n",
      " Name Agent 1\n",
      " EmpNo21\n",
      "Emp2\n",
      " Name Agent 2\n",
      " EmpNo25\n"
     ]
    }
   ],
   "source": [
    "# Iterating over a nested dictionary\n",
    "\n",
    "for id,info in dict.items():\n",
    "    print(id)\n",
    "    for key,value in info.items():\n",
    "        print(f\" {key:}{value}\")"
   ]
  },
  {
   "cell_type": "code",
   "execution_count": 54,
   "metadata": {},
   "outputs": [
    {
     "data": {
      "text/plain": [
       "{0: 0, 2: 4, 4: 16, 6: 36, 8: 64}"
      ]
     },
     "execution_count": 54,
     "metadata": {},
     "output_type": "execute_result"
    }
   ],
   "source": [
    "# Dictionary comprehension\n",
    "\n",
    "{x:x**2 for x in range(10) if x%2==0}"
   ]
  },
  {
   "cell_type": "code",
   "execution_count": 65,
   "metadata": {},
   "outputs": [
    {
     "name": "stdout",
     "output_type": "stream",
     "text": [
      "1--->2\n",
      "2--->3\n",
      "3--->2\n",
      "4--->5\n",
      "5--->3\n",
      "6--->1\n"
     ]
    }
   ],
   "source": [
    "# use a dictionary to count the frequency of elements in a list\n",
    "\n",
    "lst = [1,1,2,2,2,3,3,4,4,4,4,4,5,5,5,6,]\n",
    "\n",
    "freq = {}\n",
    "\n",
    "for x in lst:\n",
    "    if x in freq:\n",
    "        freq[x]+=1\n",
    "    else:\n",
    "        freq[x]=1\n",
    "\n",
    "for key,val in freq.items():\n",
    "    print(f\"{key:}--->{val:}\")"
   ]
  },
  {
   "cell_type": "code",
   "execution_count": 67,
   "metadata": {},
   "outputs": [
    {
     "name": "stdout",
     "output_type": "stream",
     "text": [
      "{'a': 1, 'b': 2, 'c': 3, 'd': 4}\n"
     ]
    }
   ],
   "source": [
    "d1 = {'a':1,'b':2}\n",
    "d2 = {'c':3,'d':4}\n",
    "\n",
    "merged_dict = {**d1,**d2}\n",
    "\n",
    "print(merged_dict)"
   ]
  }
 ],
 "metadata": {
  "kernelspec": {
   "display_name": "python_env",
   "language": "python",
   "name": "python3"
  },
  "language_info": {
   "codemirror_mode": {
    "name": "ipython",
    "version": 3
   },
   "file_extension": ".py",
   "mimetype": "text/x-python",
   "name": "python",
   "nbconvert_exporter": "python",
   "pygments_lexer": "ipython3",
   "version": "3.12.3"
  }
 },
 "nbformat": 4,
 "nbformat_minor": 2
}
