{
 "cells": [
  {
   "cell_type": "markdown",
   "metadata": {},
   "source": [
    "Datatypes\n"
   ]
  },
  {
   "cell_type": "code",
   "execution_count": 5,
   "metadata": {},
   "outputs": [
    {
     "name": "stdout",
     "output_type": "stream",
     "text": [
      "Hello   5\n"
     ]
    }
   ],
   "source": [
    "# common errors\n",
    "#res= \"Hello\" + 5    # ---> Gives concatenation error, need to typecast it\n",
    "res = \"Hello\" + str(5) \n",
    "print(res)"
   ]
  },
  {
   "cell_type": "markdown",
   "metadata": {},
   "source": [
    "Operators"
   ]
  },
  {
   "cell_type": "code",
   "execution_count": 13,
   "metadata": {},
   "outputs": [
    {
     "name": "stdout",
     "output_type": "stream",
     "text": [
      "12.9\n",
      "6.9\n",
      "29.700000000000003\n",
      "3.300\n",
      "0.9000000000000004\n",
      "Floor Division : 3.0\n"
     ]
    }
   ],
   "source": [
    "# Arithmetic operations\n",
    "a=float(input())\n",
    "b=float(input())\n",
    "\n",
    "print(a+b)\n",
    "print(a-b)\n",
    "print(a*b)\n",
    "print(f\"{(a/b):.3f}\")\n",
    "\n",
    "print(a%b)\n",
    "\n",
    "print(\"Floor Division :\",a//b)"
   ]
  },
  {
   "cell_type": "code",
   "execution_count": 16,
   "metadata": {},
   "outputs": [
    {
     "data": {
      "text/plain": [
       "False"
      ]
     },
     "execution_count": 16,
     "metadata": {},
     "output_type": "execute_result"
    }
   ],
   "source": [
    "# Comparison Operators\n",
    "s1=\"Test\"\n",
    "s2=\"test\"\n",
    "\n",
    "s1==s2\n",
    "\n",
    "# etc......"
   ]
  },
  {
   "cell_type": "code",
   "execution_count": 22,
   "metadata": {},
   "outputs": [
    {
     "name": "stdout",
     "output_type": "stream",
     "text": [
      "True\n",
      "True\n",
      "False\n",
      "False\n"
     ]
    }
   ],
   "source": [
    "# Logical operators\n",
    "\n",
    "x=True\n",
    "y=True\n",
    "\n",
    "print(x and y)\n",
    "print(x or y)\n",
    "print(not(x) and not(y))\n",
    "print(not(x) or not(y))"
   ]
  },
  {
   "cell_type": "code",
   "execution_count": 10,
   "metadata": {},
   "outputs": [
    {
     "name": "stdout",
     "output_type": "stream",
     "text": [
      "2\n",
      "3\n",
      "5\n",
      "7\n",
      "11\n"
     ]
    }
   ],
   "source": [
    "import math\n",
    "\n",
    "def isPrime(n):\n",
    "    if n<=1:\n",
    "        return False\n",
    "    \n",
    "    for i in range(2,int(math.sqrt(n))+1):\n",
    "        if(n % i == 0):\n",
    "            return False\n",
    "\n",
    "    return True\n",
    "\n",
    "num = int(input())\n",
    "\n",
    "for i in range(num+1):\n",
    "    if isPrime(i)==True:\n",
    "        print(i)"
   ]
  },
  {
   "cell_type": "code",
   "execution_count": null,
   "metadata": {},
   "outputs": [],
   "source": []
  }
 ],
 "metadata": {
  "kernelspec": {
   "display_name": "python_env",
   "language": "python",
   "name": "python3"
  },
  "language_info": {
   "codemirror_mode": {
    "name": "ipython",
    "version": 3
   },
   "file_extension": ".py",
   "mimetype": "text/x-python",
   "name": "python",
   "nbconvert_exporter": "python",
   "pygments_lexer": "ipython3",
   "version": "3.12.3"
  }
 },
 "nbformat": 4,
 "nbformat_minor": 2
}
